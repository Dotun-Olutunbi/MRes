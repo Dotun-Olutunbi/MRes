{
 "cells": [
  {
   "cell_type": "code",
   "execution_count": 2,
   "id": "d442dbd2",
   "metadata": {},
   "outputs": [],
   "source": [
    "import sys\n",
    "import pandas as pd\n",
    "import matplotlib.pyplot as plt\n",
    "import seaborn as sns\n",
    "from scipy.stats import stats, shapiro, mannwhitneyu, probplot"
   ]
  },
  {
   "cell_type": "code",
   "execution_count": 3,
   "id": "0379ea28",
   "metadata": {},
   "outputs": [],
   "source": [
    "data_sheet = pd.read_excel('/mnt/c/Users/olutu/Downloads/record_of_interactions.xlsx', sheet_name='Sheet2')"
   ]
  },
  {
   "cell_type": "code",
   "execution_count": 4,
   "id": "ff665e9a",
   "metadata": {},
   "outputs": [
    {
     "data": {
      "text/html": [
       "<div>\n",
       "<style scoped>\n",
       "    .dataframe tbody tr th:only-of-type {\n",
       "        vertical-align: middle;\n",
       "    }\n",
       "\n",
       "    .dataframe tbody tr th {\n",
       "        vertical-align: top;\n",
       "    }\n",
       "\n",
       "    .dataframe thead th {\n",
       "        text-align: right;\n",
       "    }\n",
       "</style>\n",
       "<table border=\"1\" class=\"dataframe\">\n",
       "  <thead>\n",
       "    <tr style=\"text-align: right;\">\n",
       "      <th></th>\n",
       "      <th>N</th>\n",
       "      <th>participants_id</th>\n",
       "      <th>condition</th>\n",
       "      <th>baseline_robot_sentiment</th>\n",
       "      <th>story_related_emotion</th>\n",
       "      <th>postsession_robot_sentiment</th>\n",
       "      <th>story_liked</th>\n",
       "      <th>enjoyed_robot_conversation</th>\n",
       "      <th>activity_liked</th>\n",
       "      <th>future_robot_use</th>\n",
       "      <th>intended_use_case</th>\n",
       "      <th>Story Recall</th>\n",
       "    </tr>\n",
       "  </thead>\n",
       "  <tbody>\n",
       "    <tr>\n",
       "      <th>0</th>\n",
       "      <td>1</td>\n",
       "      <td>MONPM16</td>\n",
       "      <td>AI</td>\n",
       "      <td>Happy</td>\n",
       "      <td>Happy</td>\n",
       "      <td>Happy</td>\n",
       "      <td>Yes</td>\n",
       "      <td>Yes</td>\n",
       "      <td>Yes</td>\n",
       "      <td>Yes</td>\n",
       "      <td>To clean my room</td>\n",
       "      <td>2.0</td>\n",
       "    </tr>\n",
       "    <tr>\n",
       "      <th>1</th>\n",
       "      <td>2</td>\n",
       "      <td>MONPM24</td>\n",
       "      <td>AI</td>\n",
       "      <td>NaN</td>\n",
       "      <td>NaN</td>\n",
       "      <td>NaN</td>\n",
       "      <td>NaN</td>\n",
       "      <td>NaN</td>\n",
       "      <td>NaN</td>\n",
       "      <td>NaN</td>\n",
       "      <td>NaN</td>\n",
       "      <td>NaN</td>\n",
       "    </tr>\n",
       "    <tr>\n",
       "      <th>2</th>\n",
       "      <td>3</td>\n",
       "      <td>MONPM4</td>\n",
       "      <td>AI</td>\n",
       "      <td>NaN</td>\n",
       "      <td>Happy</td>\n",
       "      <td>Okay</td>\n",
       "      <td>Yes</td>\n",
       "      <td>Yes</td>\n",
       "      <td>Yes</td>\n",
       "      <td>Yes</td>\n",
       "      <td>Storytelling. Conversation.</td>\n",
       "      <td>1.0</td>\n",
       "    </tr>\n",
       "  </tbody>\n",
       "</table>\n",
       "</div>"
      ],
      "text/plain": [
       "   N participants_id condition baseline_robot_sentiment story_related_emotion  \\\n",
       "0  1         MONPM16        AI                    Happy                 Happy   \n",
       "1  2         MONPM24        AI                      NaN                   NaN   \n",
       "2  3          MONPM4        AI                      NaN                 Happy   \n",
       "\n",
       "  postsession_robot_sentiment story_liked enjoyed_robot_conversation  \\\n",
       "0                       Happy         Yes                       Yes    \n",
       "1                         NaN         NaN                        NaN   \n",
       "2                        Okay         Yes                       Yes    \n",
       "\n",
       "  activity_liked future_robot_use            intended_use_case  Story Recall  \n",
       "0            Yes              Yes             To clean my room           2.0  \n",
       "1            NaN              NaN                          NaN           NaN  \n",
       "2            Yes              Yes  Storytelling. Conversation.           1.0  "
      ]
     },
     "execution_count": 4,
     "metadata": {},
     "output_type": "execute_result"
    }
   ],
   "source": [
    "data_sheet.head(3)"
   ]
  },
  {
   "cell_type": "code",
   "execution_count": 5,
   "id": "7bb45130",
   "metadata": {},
   "outputs": [],
   "source": [
    "likert_map = {\n",
    "    \"Very happy\": 4,\n",
    "    \"Happy\": 3,\n",
    "    \"Okay\": 2,\n",
    "    \"Sad\": 1,\n",
    "    \"Very sad\": 0\n",
    "}"
   ]
  },
  {
   "cell_type": "code",
   "execution_count": 6,
   "id": "9e965223",
   "metadata": {},
   "outputs": [],
   "source": [
    "data_sheet[\"baseline_robot_sentiment\"] = data_sheet[\"baseline_robot_sentiment\"].map(likert_map)\n",
    "data_sheet[\"postsession_robot_sentiment\"] = data_sheet[\"postsession_robot_sentiment\"].map(likert_map)\n",
    "data_sheet['story_related_emotion'] = data_sheet['story_related_emotion'].map(likert_map)\n"
   ]
  },
  {
   "cell_type": "code",
   "execution_count": 7,
   "id": "c3b588f9-c372-469e-9041-515333be1af3",
   "metadata": {},
   "outputs": [
    {
     "data": {
      "text/html": [
       "<div>\n",
       "<style scoped>\n",
       "    .dataframe tbody tr th:only-of-type {\n",
       "        vertical-align: middle;\n",
       "    }\n",
       "\n",
       "    .dataframe tbody tr th {\n",
       "        vertical-align: top;\n",
       "    }\n",
       "\n",
       "    .dataframe thead th {\n",
       "        text-align: right;\n",
       "    }\n",
       "</style>\n",
       "<table border=\"1\" class=\"dataframe\">\n",
       "  <thead>\n",
       "    <tr style=\"text-align: right;\">\n",
       "      <th></th>\n",
       "      <th>N</th>\n",
       "      <th>participants_id</th>\n",
       "      <th>condition</th>\n",
       "      <th>baseline_robot_sentiment</th>\n",
       "      <th>story_related_emotion</th>\n",
       "      <th>postsession_robot_sentiment</th>\n",
       "      <th>story_liked</th>\n",
       "      <th>enjoyed_robot_conversation</th>\n",
       "      <th>activity_liked</th>\n",
       "      <th>future_robot_use</th>\n",
       "      <th>intended_use_case</th>\n",
       "      <th>Story Recall</th>\n",
       "    </tr>\n",
       "  </thead>\n",
       "  <tbody>\n",
       "    <tr>\n",
       "      <th>0</th>\n",
       "      <td>1</td>\n",
       "      <td>MONPM16</td>\n",
       "      <td>AI</td>\n",
       "      <td>3.0</td>\n",
       "      <td>3.0</td>\n",
       "      <td>3.0</td>\n",
       "      <td>Yes</td>\n",
       "      <td>Yes</td>\n",
       "      <td>Yes</td>\n",
       "      <td>Yes</td>\n",
       "      <td>To clean my room</td>\n",
       "      <td>2.0</td>\n",
       "    </tr>\n",
       "    <tr>\n",
       "      <th>1</th>\n",
       "      <td>2</td>\n",
       "      <td>MONPM24</td>\n",
       "      <td>AI</td>\n",
       "      <td>NaN</td>\n",
       "      <td>NaN</td>\n",
       "      <td>NaN</td>\n",
       "      <td>NaN</td>\n",
       "      <td>NaN</td>\n",
       "      <td>NaN</td>\n",
       "      <td>NaN</td>\n",
       "      <td>NaN</td>\n",
       "      <td>NaN</td>\n",
       "    </tr>\n",
       "    <tr>\n",
       "      <th>2</th>\n",
       "      <td>3</td>\n",
       "      <td>MONPM4</td>\n",
       "      <td>AI</td>\n",
       "      <td>NaN</td>\n",
       "      <td>3.0</td>\n",
       "      <td>2.0</td>\n",
       "      <td>Yes</td>\n",
       "      <td>Yes</td>\n",
       "      <td>Yes</td>\n",
       "      <td>Yes</td>\n",
       "      <td>Storytelling. Conversation.</td>\n",
       "      <td>1.0</td>\n",
       "    </tr>\n",
       "    <tr>\n",
       "      <th>3</th>\n",
       "      <td>4</td>\n",
       "      <td>MONPM14</td>\n",
       "      <td>AI</td>\n",
       "      <td>NaN</td>\n",
       "      <td>2.0</td>\n",
       "      <td>3.0</td>\n",
       "      <td>Yes</td>\n",
       "      <td>Yes</td>\n",
       "      <td>Yes</td>\n",
       "      <td>No</td>\n",
       "      <td>I don't really understand what it's saying</td>\n",
       "      <td>0.0</td>\n",
       "    </tr>\n",
       "    <tr>\n",
       "      <th>4</th>\n",
       "      <td>5</td>\n",
       "      <td>TUEAM31</td>\n",
       "      <td>AI</td>\n",
       "      <td>NaN</td>\n",
       "      <td>2.0</td>\n",
       "      <td>2.0</td>\n",
       "      <td>No</td>\n",
       "      <td>No</td>\n",
       "      <td>No</td>\n",
       "      <td>No</td>\n",
       "      <td>NaN</td>\n",
       "      <td>NaN</td>\n",
       "    </tr>\n",
       "  </tbody>\n",
       "</table>\n",
       "</div>"
      ],
      "text/plain": [
       "   N participants_id condition  baseline_robot_sentiment  \\\n",
       "0  1         MONPM16        AI                       3.0   \n",
       "1  2         MONPM24        AI                       NaN   \n",
       "2  3          MONPM4        AI                       NaN   \n",
       "3  4         MONPM14        AI                       NaN   \n",
       "4  5         TUEAM31        AI                       NaN   \n",
       "\n",
       "   story_related_emotion  postsession_robot_sentiment story_liked  \\\n",
       "0                    3.0                          3.0         Yes   \n",
       "1                    NaN                          NaN         NaN   \n",
       "2                    3.0                          2.0         Yes   \n",
       "3                    2.0                          3.0         Yes   \n",
       "4                    2.0                          2.0          No   \n",
       "\n",
       "  enjoyed_robot_conversation activity_liked future_robot_use  \\\n",
       "0                       Yes             Yes              Yes   \n",
       "1                        NaN            NaN              NaN   \n",
       "2                       Yes             Yes              Yes   \n",
       "3                       Yes             Yes               No   \n",
       "4                         No             No               No   \n",
       "\n",
       "                            intended_use_case  Story Recall  \n",
       "0                            To clean my room           2.0  \n",
       "1                                         NaN           NaN  \n",
       "2                 Storytelling. Conversation.           1.0  \n",
       "3  I don't really understand what it's saying           0.0  \n",
       "4                                         NaN           NaN  "
      ]
     },
     "execution_count": 7,
     "metadata": {},
     "output_type": "execute_result"
    }
   ],
   "source": [
    "data_sheet.head()"
   ]
  },
  {
   "cell_type": "code",
   "execution_count": 8,
   "id": "ebc5098f-0452-4cc1-a15e-d2f53598a38f",
   "metadata": {},
   "outputs": [],
   "source": [
    "#Baseline robot sentiment\n",
    "baseline_robot_sentiment_ai = data_sheet[data_sheet['condition'] == 'AI']['baseline_robot_sentiment'].dropna().astype(int)\n",
    "baseline_robot_sentiment_ctrl = data_sheet[data_sheet['condition'] == 'Control']['baseline_robot_sentiment'].dropna().astype(int)"
   ]
  },
  {
   "cell_type": "code",
   "execution_count": 9,
   "id": "d6b22ce0-4ff2-4456-ad94-7350e5c1ecb5",
   "metadata": {},
   "outputs": [],
   "source": [
    "# Story recall\n",
    "ai_group_recall = data_sheet[data_sheet['condition'] == 'AI']['Story Recall'].dropna().astype(int)\n",
    "control_group_recall = data_sheet[data_sheet['condition'] == 'Control']['Story Recall'].dropna().astype(int)\n",
    "\n",
    "# Story-related emotion\n",
    "story_related_emotion_ai = data_sheet[data_sheet['condition'] == 'AI']['story_related_emotion'].dropna().astype(int)\n",
    "story_related_emotion_c = data_sheet[data_sheet['condition'] == 'Control']['story_related_emotion'].dropna().astype(int)\n",
    "\n",
    "#Postsession robot sentiment\n",
    "postRS_ai = data_sheet[data_sheet['condition'] == 'AI']['postsession_robot_sentiment'].dropna().astype(int)\n",
    "postRS_ctrl = data_sheet[data_sheet['condition'] == 'Control']['postsession_robot_sentiment'].dropna().astype(int)"
   ]
  },
  {
   "cell_type": "markdown",
   "id": "79e8e860-a4e5-41dc-b985-2feff52c4c3e",
   "metadata": {},
   "source": [
    "Shapiro-Wilk Test"
   ]
  },
  {
   "cell_type": "markdown",
   "id": "7d8de8f2-b87c-4789-ad49-e7ac2ff79291",
   "metadata": {},
   "source": [
    "Test story_recall for normal distribution"
   ]
  },
  {
   "cell_type": "code",
   "execution_count": 10,
   "id": "af087863-ad75-4ae0-b2ba-c06036cd0efd",
   "metadata": {},
   "outputs": [],
   "source": [
    "shapiro_BRS_AI, BRS_ai = shapiro(baseline_robot_sentiment_ai)\n",
    "shapiro_BRS_C, BRS_ctrl = shapiro(baseline_robot_sentiment_ctrl)"
   ]
  },
  {
   "cell_type": "code",
   "execution_count": 11,
   "id": "a5f3b460-17b8-4bef-b4fb-b6830467e055",
   "metadata": {},
   "outputs": [
    {
     "name": "stdout",
     "output_type": "stream",
     "text": [
      "Number of respondents in ai group (baseline robot sentiment): 15\n",
      "Number of respondents in control group (baseline robot sentiment): 24\n",
      "Number of respondents that reported a baseline robot sentiment:  39\n",
      "AI group: W.stat = 0.771, p = {0.00162}\n",
      "Control group: W.stat = 0.818, p = {0.00059}\n"
     ]
    }
   ],
   "source": [
    "x = len(baseline_robot_sentiment_ai)\n",
    "y = len(baseline_robot_sentiment_ctrl)\n",
    "\n",
    "print(\"Number of respondents in ai group (baseline robot sentiment):\", x)\n",
    "print(\"Number of respondents in control group (baseline robot sentiment):\", y)\n",
    "print(\"Number of respondents that reported a baseline robot sentiment: \", x + y)\n",
    "# For AI Group\n",
    "print(\"AI group: W.stat = %.3f, p = {%.5f}\"% (shapiro_BRS_AI, BRS_ai))\n",
    "print(\"Control group: W.stat = %.3f, p = {%.5f}\"%(shapiro_BRS_C, BRS_ctrl))"
   ]
  },
  {
   "cell_type": "code",
   "execution_count": 12,
   "id": "3395618d-0913-4bce-81d0-fb30260f89be",
   "metadata": {},
   "outputs": [],
   "source": [
    "shapiro_ai_recall, p_ai = shapiro(ai_group_recall)\n",
    "shapiro_control_recall, p_ctrl = shapiro(control_group_recall)"
   ]
  },
  {
   "cell_type": "code",
   "execution_count": 13,
   "id": "aff552df-7157-4dba-8731-22862c486eb8",
   "metadata": {},
   "outputs": [
    {
     "name": "stdout",
     "output_type": "stream",
     "text": [
      "Number of participants in ai_recall group: 24\n",
      "Number of participants in control_recall group: 22\n",
      "Number of persons that attempted to recall the narrative:  46\n",
      "AI group: W.stat = 0.727, p = {0.00002}\n",
      "Control group: W.stat = 0.738, p = {0.00006}\n"
     ]
    }
   ],
   "source": [
    "x = len(ai_group_recall)\n",
    "y = len(control_group_recall)\n",
    "\n",
    "print(\"Number of participants in ai_recall group:\", x)\n",
    "print(\"Number of participants in control_recall group:\", y)\n",
    "print(\"Number of persons that attempted to recall the narrative: \", x +y)\n",
    "# For AI Group\n",
    "print(\"AI group: W.stat = %.3f, p = {%.5f}\"% (shapiro_ai_recall, p_ai))\n",
    "print(\"Control group: W.stat = %.3f, p = {%.5f}\"%(shapiro_control_recall, p_ctrl))"
   ]
  },
  {
   "cell_type": "code",
   "execution_count": 14,
   "id": "1158932e-2246-4602-8f9f-397c5bbb5fa0",
   "metadata": {},
   "outputs": [],
   "source": [
    "shapiro_PostRS_ai, p_PRS_ai=shapiro(postRS_ai)\n",
    "shapiro_PostRS_ctrl, p_PRS_ctrl=shapiro(postRS_ctrl)"
   ]
  },
  {
   "cell_type": "code",
   "execution_count": 15,
   "id": "324e4950-a58f-42a5-adb3-193a7d39a3fe",
   "metadata": {},
   "outputs": [
    {
     "name": "stdout",
     "output_type": "stream",
     "text": [
      "Number of participants reported post-session robot sentiment (AI): 33\n",
      "Number of participants report post-session robot sentiment (Control): 25\n",
      "Number of persons reported the post-session robot sentiment:  58\n",
      "AI group: W.stat = 0.800, p = {0.00003}\n",
      "Control group: W.stat = 0.805, p = {0.00028}\n"
     ]
    }
   ],
   "source": [
    "x = len(postRS_ai)\n",
    "y = len(postRS_ctrl)\n",
    "\n",
    "print(\"Number of participants reported post-session robot sentiment (AI):\", x)\n",
    "print(\"Number of participants report post-session robot sentiment (Control):\", y)\n",
    "print(\"Number of persons reported the post-session robot sentiment: \", x+y)\n",
    "# For AI Group\n",
    "print(\"AI group: W.stat = %.3f, p = {%.5f}\"% (shapiro_PostRS_ai, p_PRS_ai))\n",
    "# For the control group\n",
    "print(\"Control group: W.stat = %.3f, p = {%.5f}\"%(shapiro_PostRS_ctrl, p_PRS_ctrl))"
   ]
  },
  {
   "cell_type": "code",
   "execution_count": 16,
   "id": "2c73e38e-d467-40a6-b688-495aebab496b",
   "metadata": {},
   "outputs": [
    {
     "data": {
      "image/png": "[encoded data removed]",
      "text/plain": [
       "<Figure size 1200x400 with 2 Axes>"
      ]
     },
     "metadata": {},
     "output_type": "display_data"
    },
    {
     "data": {
      "image/png": "[encoded data removed]",
      "text/plain": [
       "<Figure size 1200x400 with 2 Axes>"
      ]
     },
     "metadata": {},
     "output_type": "display_data"
    },
    {
     "data": {
      "image/png": "[encoded data removed]",
      "text/plain": [
       "<Figure size 1200x400 with 2 Axes>"
      ]
     },
     "metadata": {},
     "output_type": "display_data"
    }
   ],
   "source": [
    "features = ['baseline_robot_sentiment', 'story_related_emotion', 'postsession_robot_sentiment']\n",
    "group_col = 'condition'\n",
    "\n",
    "for feature in features:\n",
    "    plt.figure(figsize=(12, 4))\n",
    "\n",
    "    # Histogram/barplot for AI group\n",
    "    plt.subplot(1, 2, 1)\n",
    "    sns.countplot(x=feature, data=data_sheet[data_sheet[group_col]=='AI'])\n",
    "    plt.title(f\"{feature} Distribution (AI)\")\n",
    "\n",
    "    # Histogram/barplot for Control group\n",
    "    plt.subplot(1, 2, 2)\n",
    "    sns.countplot(x=feature, data=data_sheet[data_sheet[group_col]=='Control'])\n",
    "    plt.title(f\"{feature} Distribution (Control)\")\n",
    "    plt.show()\n"
   ]
  },
  {
   "cell_type": "markdown",
   "id": "bfc0a8fc-aa0a-40e6-8069-505c351f2f5d",
   "metadata": {},
   "source": [
    "TEST FOR THE DIFFERENCE BETWEEN THE TWO GROUPS (AI AND CONTROL)"
   ]
  },
  {
   "cell_type": "code",
   "execution_count": 17,
   "id": "8c3e6114",
   "metadata": {},
   "outputs": [
    {
     "name": "stdout",
     "output_type": "stream",
     "text": [
      "Mann-Whitney U-value (Story related emotion): 374.0\n",
      "p-value (Story related emotion): 0.5122634026791186\n"
     ]
    }
   ],
   "source": [
    "# The Mann-Test for story related emotion\n",
    "u_statistic, p_value = mannwhitneyu(story_related_emotion_ai, story_related_emotion_c, alternative='two-sided')\n",
    "\n",
    "print(\"Mann-Whitney U-value (Story related emotion):\", u_statistic)\n",
    "print(\"p-value (Story related emotion):\", p_value)"
   ]
  },
  {
   "cell_type": "code",
   "execution_count": 18,
   "id": "e840d502-e1e1-4e1b-88f8-0b1193b0f210",
   "metadata": {},
   "outputs": [
    {
     "name": "stdout",
     "output_type": "stream",
     "text": [
      "Mann-Whitney U-value (Baseline robot sentiment): 166.5\n",
      "p-value (Baseline robot sentiment): 0.6894870030832928\n"
     ]
    }
   ],
   "source": [
    "# The Mann-Test for baseline robot sentiment\n",
    "u_statistic, p_value = mannwhitneyu(baseline_robot_sentiment_ai, baseline_robot_sentiment_ctrl, alternative='two-sided')\n",
    "\n",
    "print(\"Mann-Whitney U-value (Baseline robot sentiment):\", u_statistic)\n",
    "print(\"p-value (Baseline robot sentiment):\", p_value)\n"
   ]
  },
  {
   "cell_type": "code",
   "execution_count": 19,
   "id": "4847a079",
   "metadata": {},
   "outputs": [
    {
     "name": "stdout",
     "output_type": "stream",
     "text": [
      "Mann-Whitney U-value (Post session robot sentiment): 334.5\n",
      "p-value (post session robot sentiment): 0.1852918795506875\n"
     ]
    }
   ],
   "source": [
    "# The Mann-Test for post-session robot sentiment\n",
    "u_statistic, p_value = mannwhitneyu(postRS_ai, postRS_ctrl, alternative='two-sided')\n",
    "\n",
    "print(\"Mann-Whitney U-value (Post session robot sentiment):\", u_statistic)\n",
    "print(\"p-value (post session robot sentiment):\", p_value)"
   ]
  },
  {
   "cell_type": "code",
   "execution_count": 20,
   "id": "729952b8-eeab-4942-91bb-55261be4841b",
   "metadata": {},
   "outputs": [],
   "source": [
    "# List of four columns with yes/no answers\n",
    "engagement_cols = [\n",
    "    'story_liked',\n",
    "    'enjoyed_robot_conversation',\n",
    "    'activity_liked',\n",
    "    'future_robot_use'\n",
    "]"
   ]
  },
  {
   "cell_type": "code",
   "execution_count": null,
   "id": "79af714d-d1b3-4386-9d48-ac3a0fd77720",
   "metadata": {},
   "outputs": [],
   "source": [
    "def yes_count2(row):\n",
    "    return sum(str(row[col]).strip().lower().startswith('yes') for col in engagement_cols)"
   ]
  },
  {
   "cell_type": "code",
   "execution_count": 24,
   "id": "bff559aa",
   "metadata": {},
   "outputs": [],
   "source": [
    "def yes_count(row):\n",
    "    count = 0\n",
    "    for col in engagement_cols:\n",
    "        value = str(row[col]).strip().lower()\n",
    "        if value.startswith('yes'):\n",
    "            count += 1\n",
    "    return count"
   ]
  },
  {
   "cell_type": "code",
   "execution_count": 25,
   "id": "ada40a80-03d4-4713-9efe-a9ab8c4fbb7b",
   "metadata": {},
   "outputs": [],
   "source": [
    "data_sheet['engagement_score'] = data_sheet.apply(yes_count, axis=1)"
   ]
  },
  {
   "cell_type": "code",
   "execution_count": 26,
   "id": "021e6d39-7f34-4e11-a599-f4e9a75848fb",
   "metadata": {},
   "outputs": [
    {
     "data": {
      "text/plain": [
       "Index(['N', 'participants_id', 'condition', 'baseline_robot_sentiment',\n",
       "       'story_related_emotion', 'postsession_robot_sentiment', 'story_liked',\n",
       "       'enjoyed_robot_conversation', 'activity_liked', 'future_robot_use',\n",
       "       'intended_use_case', 'Story Recall', 'engagement_score'],\n",
       "      dtype='object')"
      ]
     },
     "execution_count": 26,
     "metadata": {},
     "output_type": "execute_result"
    }
   ],
   "source": [
    "data_sheet.columns"
   ]
  },
  {
   "cell_type": "code",
   "execution_count": 27,
   "id": "1ef7379e",
   "metadata": {},
   "outputs": [
    {
     "data": {
      "text/html": [
       "<div>\n",
       "<style scoped>\n",
       "    .dataframe tbody tr th:only-of-type {\n",
       "        vertical-align: middle;\n",
       "    }\n",
       "\n",
       "    .dataframe tbody tr th {\n",
       "        vertical-align: top;\n",
       "    }\n",
       "\n",
       "    .dataframe thead th {\n",
       "        text-align: right;\n",
       "    }\n",
       "</style>\n",
       "<table border=\"1\" class=\"dataframe\">\n",
       "  <thead>\n",
       "    <tr style=\"text-align: right;\">\n",
       "      <th></th>\n",
       "      <th>condition</th>\n",
       "      <th>engagement_score</th>\n",
       "    </tr>\n",
       "  </thead>\n",
       "  <tbody>\n",
       "    <tr>\n",
       "      <th>0</th>\n",
       "      <td>AI</td>\n",
       "      <td>4</td>\n",
       "    </tr>\n",
       "    <tr>\n",
       "      <th>1</th>\n",
       "      <td>AI</td>\n",
       "      <td>0</td>\n",
       "    </tr>\n",
       "    <tr>\n",
       "      <th>2</th>\n",
       "      <td>AI</td>\n",
       "      <td>4</td>\n",
       "    </tr>\n",
       "    <tr>\n",
       "      <th>3</th>\n",
       "      <td>AI</td>\n",
       "      <td>3</td>\n",
       "    </tr>\n",
       "    <tr>\n",
       "      <th>4</th>\n",
       "      <td>AI</td>\n",
       "      <td>0</td>\n",
       "    </tr>\n",
       "  </tbody>\n",
       "</table>\n",
       "</div>"
      ],
      "text/plain": [
       "  condition  engagement_score\n",
       "0        AI                 4\n",
       "1        AI                 0\n",
       "2        AI                 4\n",
       "3        AI                 3\n",
       "4        AI                 0"
      ]
     },
     "execution_count": 27,
     "metadata": {},
     "output_type": "execute_result"
    }
   ],
   "source": [
    "data_sheet[['condition', 'engagement_score']].head()"
   ]
  },
  {
   "cell_type": "code",
   "execution_count": 37,
   "id": "ccc30415-468b-4299-8afc-9f9176e02495",
   "metadata": {},
   "outputs": [],
   "source": [
    "# Separate scores by condition\n",
    "engagement_ai = data_sheet[data_sheet['condition'] == 'AI']['engagement_score'].dropna()\n",
    "engagement_control = data_sheet[data_sheet['condition'] == 'Control']['engagement_score'].dropna()"
   ]
  },
  {
   "cell_type": "code",
   "execution_count": 38,
   "id": "4f195c53",
   "metadata": {},
   "outputs": [
    {
     "data": {
      "text/plain": [
       "0    4\n",
       "1    0\n",
       "2    4\n",
       "3    3\n",
       "4    0\n",
       "Name: engagement_score, dtype: int64"
      ]
     },
     "execution_count": 38,
     "metadata": {},
     "output_type": "execute_result"
    }
   ],
   "source": [
    "engagement_ai.head()"
   ]
  },
  {
   "cell_type": "code",
   "execution_count": 39,
   "id": "b55b57f7",
   "metadata": {},
   "outputs": [
    {
     "data": {
      "text/plain": [
       "22    4\n",
       "23    4\n",
       "24    4\n",
       "25    0\n",
       "26    4\n",
       "Name: engagement_score, dtype: int64"
      ]
     },
     "execution_count": 39,
     "metadata": {},
     "output_type": "execute_result"
    }
   ],
   "source": [
    "engagement_control.head()"
   ]
  },
  {
   "cell_type": "code",
   "execution_count": 40,
   "id": "02b52c59",
   "metadata": {},
   "outputs": [
    {
     "name": "stdout",
     "output_type": "stream",
     "text": [
      "Number of participants in Control group (engagement score): 30\n",
      "Number of participants in AI group (engagement score): 35\n"
     ]
    }
   ],
   "source": [
    "print(\"Number of participants in Control group (engagement score):\", engagement_control.size)\n",
    "print(\"Number of participants in AI group (engagement score):\", engagement_ai.size)"
   ]
  },
  {
   "cell_type": "code",
   "execution_count": 41,
   "id": "792f827b-1015-455a-997a-4c930c684f19",
   "metadata": {},
   "outputs": [],
   "source": [
    "u_statistic, p_value = mannwhitneyu(engagement_ai, engagement_control, alternative='two-sided')"
   ]
  },
  {
   "cell_type": "code",
   "execution_count": 42,
   "id": "1c700e46-8f6e-4ba6-a319-7f4e048992dd",
   "metadata": {},
   "outputs": [
    {
     "name": "stdout",
     "output_type": "stream",
     "text": [
      "Mann-Whitney U-value (engagement): 511.0\n",
      "p-value (engagement): 0.8176616018230672\n"
     ]
    }
   ],
   "source": [
    "print(\"Mann-Whitney U-value (engagement):\", u_statistic)\n",
    "print(\"p-value (engagement):\", p_value)"
   ]
  },
  {
   "cell_type": "markdown",
   "id": "a875a161-0a97-4474-883d-6be4761f7c07",
   "metadata": {},
   "source": [
    "A p-value >> 0.05 s there indicates no significant difference in overall engagement between the AI and Control groups based on the Mann-Whitney U test."
   ]
  },
  {
   "cell_type": "code",
   "execution_count": null,
   "id": "80f022d1-1599-46db-818d-2b3aaf609979",
   "metadata": {},
   "outputs": [],
   "source": []
  }
 ],
 "metadata": {
  "kernelspec": {
   "display_name": "myEnv3.1",
   "language": "python",
   "name": "python3"
  },
  "language_info": {
   "codemirror_mode": {
    "name": "ipython",
    "version": 3
   },
   "file_extension": ".py",
   "mimetype": "text/x-python",
   "name": "python",
   "nbconvert_exporter": "python",
   "pygments_lexer": "ipython3",
   "version": "3.10.12"
  }
 },
 "nbformat": 4,
 "nbformat_minor": 5
}
